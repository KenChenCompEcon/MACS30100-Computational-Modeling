{
 "cells": [
  {
   "cell_type": "code",
   "execution_count": 1,
   "metadata": {},
   "outputs": [],
   "source": [
    "# import the packages\n",
    "import numpy as np\n",
    "import matplotlib.pyplot as plt\n",
    "import pandas as pd\n",
    "import statsmodels.api as sm\n",
    "\n",
    "from sklearn.metrics import mean_squared_error\n",
    "from sklearn.preprocessing import PolynomialFeatures\n",
    "from sklearn.model_selection import KFold, cross_val_score\n",
    "from sklearn.linear_model import LinearRegression"
   ]
  },
  {
   "cell_type": "markdown",
   "metadata": {},
   "source": [
    "# Conceptual exercises"
   ]
  },
  {
   "cell_type": "markdown",
   "metadata": {},
   "source": [
    "## Backfitting approach for GAMs"
   ]
  },
  {
   "cell_type": "markdown",
   "metadata": {},
   "source": [
    "### Generate a response $Y$ and two predictors $X_{1}, X_{2}$ with $n=100$."
   ]
  },
  {
   "cell_type": "code",
   "execution_count": 2,
   "metadata": {},
   "outputs": [],
   "source": [
    "np.random.seed(30100)\n",
    "\n",
    "X1 = np.random.normal(size=100)\n",
    "X2 = np.random.normal(size=100)\n",
    "eps = np.random.normal(size=100)\n",
    "beta = np.random.uniform(0,4,size=3)\n",
    "\n",
    "Y = beta[0] + beta[1]*X1 + beta[2]*X2 + eps"
   ]
  },
  {
   "cell_type": "code",
   "execution_count": 3,
   "metadata": {},
   "outputs": [
    {
     "name": "stdout",
     "output_type": "stream",
     "text": [
      "The simulated betas are: [3.11845525 0.04921224 2.39379572]\n"
     ]
    }
   ],
   "source": [
    "print(\"The simulated betas are: {}\".format(beta))"
   ]
  },
  {
   "cell_type": "markdown",
   "metadata": {},
   "source": [
    "### Initialize $\\hat{\\beta_{1}}$ to take on a value of your choice. It does not matter what value you choose"
   ]
  },
  {
   "cell_type": "code",
   "execution_count": 4,
   "metadata": {},
   "outputs": [],
   "source": [
    "beta1 = 1"
   ]
  },
  {
   "cell_type": "markdown",
   "metadata": {},
   "source": [
    "### Keeping $\\hat{\\beta_{1}}$ fixed, fit the model"
   ]
  },
  {
   "cell_type": "code",
   "execution_count": 5,
   "metadata": {},
   "outputs": [],
   "source": [
    "y_reduced = (Y - beta1*X1)"
   ]
  },
  {
   "cell_type": "code",
   "execution_count": 6,
   "metadata": {},
   "outputs": [
    {
     "name": "stdout",
     "output_type": "stream",
     "text": [
      "The estimated coefficient of X2 is: 2.4621\n"
     ]
    }
   ],
   "source": [
    "ls = sm.OLS(y_reduced, sm.add_constant(X2)).fit()\n",
    "print(\"The estimated coefficient of X2 is: {:.4f}\".format(ls.params[1]))"
   ]
  },
  {
   "cell_type": "markdown",
   "metadata": {},
   "source": [
    "### Keeping $\\hat{\\beta_{2}}$ fixed, fit the model"
   ]
  },
  {
   "cell_type": "code",
   "execution_count": 7,
   "metadata": {},
   "outputs": [
    {
     "name": "stdout",
     "output_type": "stream",
     "text": [
      "The estimated coefficient of X1 is: 0.2134\n"
     ]
    }
   ],
   "source": [
    "beta2 = ls.params[1]\n",
    "y_reduced = (Y - beta2*X2)\n",
    "ls = sm.OLS(y_reduced, sm.add_constant(X1)).fit()\n",
    "print(\"The estimated coefficient of X1 is: {:.4f}\".format(ls.params[1]))"
   ]
  },
  {
   "cell_type": "markdown",
   "metadata": {},
   "source": [
    "### Write a for loop to repeat (c) and (d) 1000 times. Report the estimates for $\\hat{\\beta_{0}}, \\hat{\\beta_{1}}, \\hat{\\beta_{2}}$ at each iteration of the for loop. Create a plot in which each of these values is displayed, with $\\hat{\\beta_{0}}, \\hat{\\beta_{1}}, \\hat{\\beta_{2}}$ each shown in a different color."
   ]
  },
  {
   "cell_type": "code",
   "execution_count": 8,
   "metadata": {},
   "outputs": [],
   "source": [
    "X = sm.add_constant(np.vstack((X1, X2)).T)"
   ]
  },
  {
   "cell_type": "code",
   "execution_count": 9,
   "metadata": {},
   "outputs": [],
   "source": [
    "beta0_lst = []; beta1_lst = []; beta2_lst = []\n",
    "beta0 = beat1 = beta2 = 1\n",
    "for i in range(1000):\n",
    "    # estimate beta2\n",
    "    beta2 = sm.OLS(Y-beta1*X[:,1], X[:,[0,2]]).fit().params[1]\n",
    "    # estimate beta0, beta1\n",
    "    beta0, beta1 = sm.OLS(Y-beta2*X[:,2], X[:,:2]).fit().params\n",
    "    beta0_lst.append(beta0); beta1_lst.append(beta1); beta2_lst.append(beta2)"
   ]
  },
  {
   "cell_type": "code",
   "execution_count": 10,
   "metadata": {},
   "outputs": [
    {
     "data": {
      "image/png": "[encoded data removed]",
      "text/plain": [
       "<Figure size 720x432 with 1 Axes>"
      ]
     },
     "metadata": {},
     "output_type": "display_data"
    }
   ],
   "source": [
    "plt.figure(figsize=(10,6))\n",
    "plt.plot(range(1,1001), beta0_lst, label = r'$\\hat{\\beta_{0}}$')\n",
    "plt.plot(range(1,1001), beta1_lst, label = r'$\\hat{\\beta_{1}}$')\n",
    "plt.plot(range(1,1001), beta2_lst, label = r'$\\hat{\\beta_{2}}$')\n",
    "plt.xlabel(\"# of iterations\"); plt.ylabel(\"estimated coefficients\")\n",
    "plt.grid()\n",
    "plt.legend()\n",
    "plt.show()"
   ]
  },
  {
   "cell_type": "markdown",
   "metadata": {},
   "source": [
    "### Compare your answer in (e) to the results of simply performing multiple linear regression to predict $Y$ using $X_{1}$ and $X_{2}$. Overlay those multiple linear regression coefficient estimates on the plot obtained in (e)."
   ]
  },
  {
   "cell_type": "code",
   "execution_count": 11,
   "metadata": {},
   "outputs": [],
   "source": [
    "params = sm.OLS(Y, X).fit().params"
   ]
  },
  {
   "cell_type": "code",
   "execution_count": 12,
   "metadata": {},
   "outputs": [
    {
     "data": {
      "image/png": "[encoded data removed]",
      "text/plain": [
       "<Figure size 720x432 with 1 Axes>"
      ]
     },
     "metadata": {},
     "output_type": "display_data"
    }
   ],
   "source": [
    "plt.figure(figsize=(10,6))\n",
    "plt.plot(range(1,1001), beta0_lst, label = r'$\\hat{\\beta_{0}}$')\n",
    "plt.plot(range(1,1001), beta1_lst, label = r'$\\hat{\\beta_{1}}$')\n",
    "plt.plot(range(1,1001), beta2_lst, label = r'$\\hat{\\beta_{2}}$')\n",
    "plt.plot(range(1,1001), [params[0]]*1000, color = 'black', linestyle = 'dashed')\n",
    "plt.plot(range(1,1001), [params[1]]*1000, color = 'black', linestyle = 'dashed')\n",
    "plt.plot(range(1,1001), [params[2]]*1000, color = 'black', linestyle = 'dashed')\n",
    "plt.xlabel(\"# of iterations\"); plt.ylabel(\"estimated coefficients\")\n",
    "plt.grid()\n",
    "plt.legend()\n",
    "plt.show()"
   ]
  },
  {
   "cell_type": "markdown",
   "metadata": {},
   "source": [
    "As we can observe from the plot, the estimates derived from back-fitting methods will approximately converge to the OLS estimation."
   ]
  },
  {
   "cell_type": "markdown",
   "metadata": {},
   "source": [
    "### On this data set, how many backfitting iterations were required in order to obtain a “good” approximation to the multiple regression coefficient estimates?"
   ]
  },
  {
   "cell_type": "code",
   "execution_count": 13,
   "metadata": {},
   "outputs": [
    {
     "name": "stdout",
     "output_type": "stream",
     "text": [
      "Number of iterations for beta0 to converge is: 5\n",
      "Number of iterations for beta1 to converge is: 5\n",
      "Number of iterations for beta2 to converge is: 5\n"
     ]
    }
   ],
   "source": [
    "print(\"Number of iterations for beta0 to converge is: {}\".format(beta0_lst.index(beta0_lst[-1])))\n",
    "print(\"Number of iterations for beta1 to converge is: {}\".format(beta1_lst.index(beta1_lst[-1])))\n",
    "print(\"Number of iterations for beta2 to converge is: {}\".format(beta2_lst.index(beta2_lst[-1])))"
   ]
  },
  {
   "cell_type": "markdown",
   "metadata": {},
   "source": [
    "It takes only five iterations for the backfitting to obtain a \"good\" approximation to the OLS estimates."
   ]
  },
  {
   "cell_type": "markdown",
   "metadata": {},
   "source": [
    "## Backfitting with large P"
   ]
  },
  {
   "cell_type": "code",
   "execution_count": 14,
   "metadata": {},
   "outputs": [],
   "source": [
    "X = sm.add_constant(np.random.normal(size = (1000, 100)))\n",
    "eps = np.random.normal(size = 1000)\n",
    "beta = np.random.uniform(0, 10, 101)\n",
    "\n",
    "Y = np.dot(X, beta) + eps"
   ]
  },
  {
   "cell_type": "code",
   "execution_count": 15,
   "metadata": {},
   "outputs": [],
   "source": [
    "# do the back-fitting process\n",
    "beta_lst = np.ones(shape = (101,101))\n",
    "mse_lst = []\n",
    "for i in range(1,101):\n",
    "    for j in range(101):\n",
    "        beta_lst[j,i] = sm.OLS(Y - np.dot(X[:,np.arange(101)!=j], beta_lst[np.arange(101)!=j,i-1]), X[:,j]).fit().params[0]\n",
    "    mse_lst.append(mean_squared_error(Y, np.dot(X, beta_lst[:,i])))"
   ]
  },
  {
   "cell_type": "code",
   "execution_count": 16,
   "metadata": {},
   "outputs": [],
   "source": [
    "# do the regular OLS estimation\n",
    "res = sm.OLS(Y,X).fit()\n",
    "mse_ols = mean_squared_error(Y, res.fittedvalues)"
   ]
  },
  {
   "cell_type": "code",
   "execution_count": 17,
   "metadata": {},
   "outputs": [
    {
     "name": "stdout",
     "output_type": "stream",
     "text": [
      "The MSE using OLS regression is 0.8388775268277755\n"
     ]
    }
   ],
   "source": [
    "print(\"The MSE using OLS regression is {}\".format(mse_ols))"
   ]
  },
  {
   "cell_type": "code",
   "execution_count": 18,
   "metadata": {},
   "outputs": [
    {
     "data": {
      "image/png": "[encoded data removed]",
      "text/plain": [
       "<Figure size 720x432 with 1 Axes>"
      ]
     },
     "metadata": {},
     "output_type": "display_data"
    }
   ],
   "source": [
    "plt.figure(figsize=(10,6))\n",
    "plt.plot(range(100), mse_lst)\n",
    "idx = list(np.array(mse_lst) <= 0.91).index(True)\n",
    "plt.plot([idx, idx], [0,200])\n",
    "plt.xlabel(\"# of iterations\"); plt.ylabel(\"Training MSE\")\n",
    "plt.show()"
   ]
  },
  {
   "cell_type": "markdown",
   "metadata": {},
   "source": [
    "It took approximately 12 iterations to reach a good approximation to the OLS estimation, in terms of training set MSE."
   ]
  }
 ],
 "metadata": {
  "kernelspec": {
   "display_name": "Python 3",
   "language": "python",
   "name": "python3"
  },
  "language_info": {
   "codemirror_mode": {
    "name": "ipython",
    "version": 3
   },
   "file_extension": ".py",
   "mimetype": "text/x-python",
   "name": "python",
   "nbconvert_exporter": "python",
   "pygments_lexer": "ipython3",
   "version": "3.6.5"
  }
 },
 "nbformat": 4,
 "nbformat_minor": 2
}
